{
 "cells": [
  {
   "cell_type": "markdown",
   "id": "5659aa99",
   "metadata": {},
   "source": [
    "# Case Study on Probability for Data Science"
   ]
  },
  {
   "cell_type": "markdown",
   "id": "1d6226f1",
   "metadata": {},
   "source": [
    "### Objective:"
   ]
  },
  {
   "cell_type": "markdown",
   "id": "1cfe7a00",
   "metadata": {},
   "source": [
    "Problem Statement:\n",
    "To make a suitable machine learning algorithm to predict if the mushroom is edible or poisonous (e or p) using the given dataset.\n",
    "(Along with other ML algorithms, Naïve Bayes’ Classifier should be applied)\n",
    "Also, if some data pre-processing is necessary do that as well."
   ]
  },
  {
   "cell_type": "markdown",
   "id": "5365e872",
   "metadata": {},
   "source": [
    "### Importing relevant libraries:"
   ]
  },
  {
   "cell_type": "code",
   "execution_count": 1,
   "id": "0848fc6e",
   "metadata": {},
   "outputs": [],
   "source": [
    "import pandas as pd\n",
    "import numpy as np\n",
    "import matplotlib.pyplot as plt\n",
    "import seaborn as sns"
   ]
  },
  {
   "cell_type": "code",
   "execution_count": 81,
   "id": "4c019aff",
   "metadata": {},
   "outputs": [],
   "source": [
    "from scipy import stats\n",
    "from sklearn.preprocessing import LabelEncoder\n",
    "from sklearn.metrics import accuracy_score, confusion_matrix\n",
    "from sklearn.model_selection import train_test_split"
   ]
  },
  {
   "cell_type": "code",
   "execution_count": 80,
   "id": "c7d74048",
   "metadata": {},
   "outputs": [],
   "source": [
    "from sklearn.tree import DecisionTreeClassifier\n",
    "from sklearn.linear_model import LogisticRegression\n",
    "from sklearn.naive_bayes import GaussianNB, BernoulliNB, MultinomialNB"
   ]
  },
  {
   "cell_type": "markdown",
   "id": "a79a634c",
   "metadata": {},
   "source": [
    "## Loading the dataset into python environment:"
   ]
  },
  {
   "cell_type": "code",
   "execution_count": 21,
   "id": "a5a86ce1",
   "metadata": {},
   "outputs": [
    {
     "data": {
      "text/html": [
       "<div>\n",
       "<style scoped>\n",
       "    .dataframe tbody tr th:only-of-type {\n",
       "        vertical-align: middle;\n",
       "    }\n",
       "\n",
       "    .dataframe tbody tr th {\n",
       "        vertical-align: top;\n",
       "    }\n",
       "\n",
       "    .dataframe thead th {\n",
       "        text-align: right;\n",
       "    }\n",
       "</style>\n",
       "<table border=\"1\" class=\"dataframe\">\n",
       "  <thead>\n",
       "    <tr style=\"text-align: right;\">\n",
       "      <th></th>\n",
       "      <th>class</th>\n",
       "      <th>cap-shape</th>\n",
       "      <th>cap-surface</th>\n",
       "      <th>cap-color</th>\n",
       "      <th>bruises</th>\n",
       "      <th>odor</th>\n",
       "      <th>gill-attachment</th>\n",
       "      <th>gill-spacing</th>\n",
       "      <th>gill-size</th>\n",
       "      <th>gill-color</th>\n",
       "      <th>...</th>\n",
       "      <th>stalk-surface-below-ring</th>\n",
       "      <th>stalk-color-above-ring</th>\n",
       "      <th>stalk-color-below-ring</th>\n",
       "      <th>veil-type</th>\n",
       "      <th>veil-color</th>\n",
       "      <th>ring-number</th>\n",
       "      <th>ring-type</th>\n",
       "      <th>spore-print-color</th>\n",
       "      <th>population</th>\n",
       "      <th>habitat</th>\n",
       "    </tr>\n",
       "  </thead>\n",
       "  <tbody>\n",
       "    <tr>\n",
       "      <th>0</th>\n",
       "      <td>p</td>\n",
       "      <td>x</td>\n",
       "      <td>s</td>\n",
       "      <td>n</td>\n",
       "      <td>t</td>\n",
       "      <td>p</td>\n",
       "      <td>f</td>\n",
       "      <td>c</td>\n",
       "      <td>n</td>\n",
       "      <td>k</td>\n",
       "      <td>...</td>\n",
       "      <td>s</td>\n",
       "      <td>w</td>\n",
       "      <td>w</td>\n",
       "      <td>p</td>\n",
       "      <td>w</td>\n",
       "      <td>o</td>\n",
       "      <td>p</td>\n",
       "      <td>k</td>\n",
       "      <td>s</td>\n",
       "      <td>u</td>\n",
       "    </tr>\n",
       "    <tr>\n",
       "      <th>1</th>\n",
       "      <td>e</td>\n",
       "      <td>x</td>\n",
       "      <td>s</td>\n",
       "      <td>y</td>\n",
       "      <td>t</td>\n",
       "      <td>a</td>\n",
       "      <td>f</td>\n",
       "      <td>c</td>\n",
       "      <td>b</td>\n",
       "      <td>k</td>\n",
       "      <td>...</td>\n",
       "      <td>s</td>\n",
       "      <td>w</td>\n",
       "      <td>w</td>\n",
       "      <td>p</td>\n",
       "      <td>w</td>\n",
       "      <td>o</td>\n",
       "      <td>p</td>\n",
       "      <td>n</td>\n",
       "      <td>n</td>\n",
       "      <td>g</td>\n",
       "    </tr>\n",
       "    <tr>\n",
       "      <th>2</th>\n",
       "      <td>e</td>\n",
       "      <td>b</td>\n",
       "      <td>s</td>\n",
       "      <td>w</td>\n",
       "      <td>t</td>\n",
       "      <td>l</td>\n",
       "      <td>f</td>\n",
       "      <td>c</td>\n",
       "      <td>b</td>\n",
       "      <td>n</td>\n",
       "      <td>...</td>\n",
       "      <td>s</td>\n",
       "      <td>w</td>\n",
       "      <td>w</td>\n",
       "      <td>p</td>\n",
       "      <td>w</td>\n",
       "      <td>o</td>\n",
       "      <td>p</td>\n",
       "      <td>n</td>\n",
       "      <td>n</td>\n",
       "      <td>m</td>\n",
       "    </tr>\n",
       "    <tr>\n",
       "      <th>3</th>\n",
       "      <td>p</td>\n",
       "      <td>x</td>\n",
       "      <td>y</td>\n",
       "      <td>w</td>\n",
       "      <td>t</td>\n",
       "      <td>p</td>\n",
       "      <td>f</td>\n",
       "      <td>c</td>\n",
       "      <td>n</td>\n",
       "      <td>n</td>\n",
       "      <td>...</td>\n",
       "      <td>s</td>\n",
       "      <td>w</td>\n",
       "      <td>w</td>\n",
       "      <td>p</td>\n",
       "      <td>w</td>\n",
       "      <td>o</td>\n",
       "      <td>p</td>\n",
       "      <td>k</td>\n",
       "      <td>s</td>\n",
       "      <td>u</td>\n",
       "    </tr>\n",
       "    <tr>\n",
       "      <th>4</th>\n",
       "      <td>e</td>\n",
       "      <td>x</td>\n",
       "      <td>s</td>\n",
       "      <td>g</td>\n",
       "      <td>f</td>\n",
       "      <td>n</td>\n",
       "      <td>f</td>\n",
       "      <td>w</td>\n",
       "      <td>b</td>\n",
       "      <td>k</td>\n",
       "      <td>...</td>\n",
       "      <td>s</td>\n",
       "      <td>w</td>\n",
       "      <td>w</td>\n",
       "      <td>p</td>\n",
       "      <td>w</td>\n",
       "      <td>o</td>\n",
       "      <td>e</td>\n",
       "      <td>n</td>\n",
       "      <td>a</td>\n",
       "      <td>g</td>\n",
       "    </tr>\n",
       "  </tbody>\n",
       "</table>\n",
       "<p>5 rows × 23 columns</p>\n",
       "</div>"
      ],
      "text/plain": [
       "  class cap-shape cap-surface cap-color bruises odor gill-attachment  \\\n",
       "0     p         x           s         n       t    p               f   \n",
       "1     e         x           s         y       t    a               f   \n",
       "2     e         b           s         w       t    l               f   \n",
       "3     p         x           y         w       t    p               f   \n",
       "4     e         x           s         g       f    n               f   \n",
       "\n",
       "  gill-spacing gill-size gill-color  ... stalk-surface-below-ring  \\\n",
       "0            c         n          k  ...                        s   \n",
       "1            c         b          k  ...                        s   \n",
       "2            c         b          n  ...                        s   \n",
       "3            c         n          n  ...                        s   \n",
       "4            w         b          k  ...                        s   \n",
       "\n",
       "  stalk-color-above-ring stalk-color-below-ring veil-type veil-color  \\\n",
       "0                      w                      w         p          w   \n",
       "1                      w                      w         p          w   \n",
       "2                      w                      w         p          w   \n",
       "3                      w                      w         p          w   \n",
       "4                      w                      w         p          w   \n",
       "\n",
       "  ring-number ring-type spore-print-color population habitat  \n",
       "0           o         p                 k          s       u  \n",
       "1           o         p                 n          n       g  \n",
       "2           o         p                 n          n       m  \n",
       "3           o         p                 k          s       u  \n",
       "4           o         e                 n          a       g  \n",
       "\n",
       "[5 rows x 23 columns]"
      ]
     },
     "execution_count": 21,
     "metadata": {},
     "output_type": "execute_result"
    }
   ],
   "source": [
    "df = pd.read_csv('Data/mushrooms.csv')\n",
    "df.head()"
   ]
  },
  {
   "cell_type": "code",
   "execution_count": 22,
   "id": "91edb207",
   "metadata": {},
   "outputs": [
    {
     "data": {
      "text/plain": [
       "Index(['class', 'cap-shape', 'cap-surface', 'cap-color', 'bruises', 'odor',\n",
       "       'gill-attachment', 'gill-spacing', 'gill-size', 'gill-color',\n",
       "       'stalk-shape', 'stalk-root', 'stalk-surface-above-ring',\n",
       "       'stalk-surface-below-ring', 'stalk-color-above-ring',\n",
       "       'stalk-color-below-ring', 'veil-type', 'veil-color', 'ring-number',\n",
       "       'ring-type', 'spore-print-color', 'population', 'habitat'],\n",
       "      dtype='object')"
      ]
     },
     "execution_count": 22,
     "metadata": {},
     "output_type": "execute_result"
    }
   ],
   "source": [
    "df.columns"
   ]
  },
  {
   "cell_type": "code",
   "execution_count": 23,
   "id": "b25847a4",
   "metadata": {},
   "outputs": [
    {
     "data": {
      "text/plain": [
       "(8124, 23)"
      ]
     },
     "execution_count": 23,
     "metadata": {},
     "output_type": "execute_result"
    }
   ],
   "source": [
    "df.shape"
   ]
  },
  {
   "cell_type": "markdown",
   "id": "192a27c2",
   "metadata": {},
   "source": [
    "### Insight:"
   ]
  },
  {
   "cell_type": "markdown",
   "id": "ab4bf990",
   "metadata": {},
   "source": [
    "The dataset contains 8124 instances of mushrooms with 23 features like cap-shape, cap-surface, cap-color, bruises, odor, etc"
   ]
  },
  {
   "cell_type": "code",
   "execution_count": 24,
   "id": "1a79a2d5",
   "metadata": {},
   "outputs": [
    {
     "name": "stdout",
     "output_type": "stream",
     "text": [
      "<class 'pandas.core.frame.DataFrame'>\n",
      "RangeIndex: 8124 entries, 0 to 8123\n",
      "Data columns (total 23 columns):\n",
      " #   Column                    Non-Null Count  Dtype \n",
      "---  ------                    --------------  ----- \n",
      " 0   class                     8124 non-null   object\n",
      " 1   cap-shape                 8124 non-null   object\n",
      " 2   cap-surface               8124 non-null   object\n",
      " 3   cap-color                 8124 non-null   object\n",
      " 4   bruises                   8124 non-null   object\n",
      " 5   odor                      8124 non-null   object\n",
      " 6   gill-attachment           8124 non-null   object\n",
      " 7   gill-spacing              8124 non-null   object\n",
      " 8   gill-size                 8124 non-null   object\n",
      " 9   gill-color                8124 non-null   object\n",
      " 10  stalk-shape               8124 non-null   object\n",
      " 11  stalk-root                8124 non-null   object\n",
      " 12  stalk-surface-above-ring  8124 non-null   object\n",
      " 13  stalk-surface-below-ring  8124 non-null   object\n",
      " 14  stalk-color-above-ring    8124 non-null   object\n",
      " 15  stalk-color-below-ring    8124 non-null   object\n",
      " 16  veil-type                 8124 non-null   object\n",
      " 17  veil-color                8124 non-null   object\n",
      " 18  ring-number               8124 non-null   object\n",
      " 19  ring-type                 8124 non-null   object\n",
      " 20  spore-print-color         8124 non-null   object\n",
      " 21  population                8124 non-null   object\n",
      " 22  habitat                   8124 non-null   object\n",
      "dtypes: object(23)\n",
      "memory usage: 1.4+ MB\n"
     ]
    }
   ],
   "source": [
    "df.info()"
   ]
  },
  {
   "cell_type": "markdown",
   "id": "a7d10731",
   "metadata": {},
   "source": [
    "## Exploratory Data Analysis"
   ]
  },
  {
   "cell_type": "markdown",
   "id": "32d508e9",
   "metadata": {},
   "source": [
    "### Here we are visualizing the commonly identifiable physical features of the mushrooms:"
   ]
  },
  {
   "cell_type": "markdown",
   "id": "751d8341",
   "metadata": {},
   "source": [
    "### 1. Visualization of the count of edible and poisonous mushrooms using Seaborn:"
   ]
  },
  {
   "cell_type": "code",
   "execution_count": 37,
   "id": "9835ffb1",
   "metadata": {
    "scrolled": true
   },
   "outputs": [
    {
     "data": {
      "image/png": "[encoded data removed]",
      "text/plain": [
       "<Figure size 432x288 with 1 Axes>"
      ]
     },
     "metadata": {},
     "output_type": "display_data"
    }
   ],
   "source": [
    "sns.set_style('darkgrid')\n",
    "ax = sns.countplot(x = df['class'])\n",
    "plt.xticks(ticks = [0, 1], labels = ['poisonous', 'edible'])\n",
    "rects = ax.patches\n",
    "for bar in rects:\n",
    "    y_value = bar.get_height()\n",
    "    x_value = bar.get_x() + bar.get_width()/2\n",
    "    ax.annotate(f'\\n{y_value}', (x_value, y_value), va='top', ha='center')\n",
    "plt.show()"
   ]
  },
  {
   "cell_type": "markdown",
   "id": "0214251f",
   "metadata": {},
   "source": [
    "### Insight:"
   ]
  },
  {
   "cell_type": "markdown",
   "id": "3311bc95",
   "metadata": {},
   "source": [
    " * From the plot it is clear that the number of edible mushrooms are more in number. "
   ]
  },
  {
   "cell_type": "markdown",
   "id": "e6df1d2e",
   "metadata": {},
   "source": [
    "### 2. Visualization of the Cap color of edible and poisonous mushrooms using Seaborn:"
   ]
  },
  {
   "cell_type": "code",
   "execution_count": 55,
   "id": "33dd4cbd",
   "metadata": {
    "scrolled": true
   },
   "outputs": [
    {
     "data": {
      "image/png": "[encoded data removed]",
      "text/plain": [
       "<Figure size 576x360 with 1 Axes>"
      ]
     },
     "metadata": {},
     "output_type": "display_data"
    }
   ],
   "source": [
    "plt.figure(figsize=(8, 5))\n",
    "sns.countplot(data = df, x = 'cap-color', hue='class')\n",
    "plt.xticks(ticks = [0, 1, 2, 3, 4, 5, 6, 7, 8, 9], \n",
    "           labels = ['brown', 'yellow', 'white', 'grey', 'red', 'pink', 'buff', 'purple', 'cinnamon', 'green'], fontsize = 13, rotation = 60)\n",
    "plt.xlabel('cap-color', fontsize=14)\n",
    "plt.ylabel('count', fontsize = 14)\n",
    "plt.title('Cap color of mushrooms: edible vs poisonous', fontsize = 15)\n",
    "plt.legend(labels=['poisonous', 'edible'], loc='upper right')\n",
    "plt.show()"
   ]
  },
  {
   "cell_type": "markdown",
   "id": "57351d65",
   "metadata": {},
   "source": [
    "### 3. Visualization of the Odor of edible and poisonous mushrooms using Seaborn:"
   ]
  },
  {
   "cell_type": "code",
   "execution_count": 56,
   "id": "93d36db1",
   "metadata": {},
   "outputs": [
    {
     "data": {
      "image/png": "[encoded data removed]",
      "text/plain": [
       "<Figure size 576x360 with 1 Axes>"
      ]
     },
     "metadata": {},
     "output_type": "display_data"
    }
   ],
   "source": [
    "plt.figure(figsize=(8, 5))\n",
    "sns.countplot(data = df, x = 'odor', hue='class')\n",
    "plt.xticks(ticks = [0, 1, 2, 3, 4, 5, 6, 7, 8], \n",
    "           labels = ['pungent', 'almond', 'anise', 'none', 'foul', 'creosote', 'fishy', 'spicy', 'musty'], fontsize = 13, rotation = 60)\n",
    "plt.xlabel('Odor', fontsize=14)\n",
    "plt.ylabel('Count', fontsize = 14)\n",
    "plt.title('Odor of Mushrooms: edible vs poisonous', fontsize = 15)\n",
    "plt.legend(labels=['poisonous', 'edible'], loc='upper right')\n",
    "plt.show()"
   ]
  },
  {
   "cell_type": "markdown",
   "id": "eb5f18e4",
   "metadata": {},
   "source": [
    "### Insight:"
   ]
  },
  {
   "cell_type": "markdown",
   "id": "ae326483",
   "metadata": {},
   "source": [
    "* The mushrooms with odor almond and anise are seemingly edible from the plot and good to consume."
   ]
  },
  {
   "cell_type": "markdown",
   "id": "55dc5210",
   "metadata": {},
   "source": [
    "## 4. Visualization of the population properties of edible and poisonous mushrooms using Seaborn:"
   ]
  },
  {
   "cell_type": "code",
   "execution_count": 58,
   "id": "45f245b4",
   "metadata": {
    "scrolled": true
   },
   "outputs": [
    {
     "data": {
      "image/png": "[encoded data removed]",
      "text/plain": [
       "<Figure size 576x360 with 1 Axes>"
      ]
     },
     "metadata": {},
     "output_type": "display_data"
    }
   ],
   "source": [
    "plt.figure(figsize=(8, 5))\n",
    "sns.countplot(data = df, x = 'population', hue='class')\n",
    "plt.xticks(ticks = [0, 1, 2, 3, 4, 5], \n",
    "           labels = ['scattered', 'numerous', 'abundant', 'several', 'solitary', 'clustered'], fontsize = 13, rotation = 60)\n",
    "plt.xlabel('Population', fontsize=14)\n",
    "plt.ylabel('Count', fontsize = 14)\n",
    "plt.title('Population properties of mushrooms: edible vs poisonous', fontsize = 15)\n",
    "plt.legend(labels=['poisonous', 'edible'], loc='upper right')\n",
    "plt.show()"
   ]
  },
  {
   "cell_type": "markdown",
   "id": "84fb4458",
   "metadata": {},
   "source": [
    "## 5. Visualization of the habitats of edible and poisonous mushrooms using Seaborn:"
   ]
  },
  {
   "cell_type": "code",
   "execution_count": 62,
   "id": "15e4c1cf",
   "metadata": {},
   "outputs": [
    {
     "data": {
      "image/png": "[encoded data removed]",
      "text/plain": [
       "<Figure size 576x360 with 1 Axes>"
      ]
     },
     "metadata": {},
     "output_type": "display_data"
    }
   ],
   "source": [
    "plt.figure(figsize=(8, 5))\n",
    "sns.countplot(data = df, x = 'habitat', hue='class')\n",
    "plt.xticks(ticks = [0, 1, 2, 3, 4, 5, 6], \n",
    "           labels = ['urban', 'grasses', 'meadows', 'woods', 'paths', 'waste', 'leaves'], fontsize = 13, rotation = 60)\n",
    "plt.xlabel('Habitat', fontsize=14)\n",
    "plt.ylabel('Count', fontsize = 14)\n",
    "plt.title('Habitats of mushrooms: edible vs poisonous', fontsize = 15)\n",
    "plt.legend(labels=['poisonous', 'edible'], loc='upper right')\n",
    "plt.show()"
   ]
  },
  {
   "cell_type": "markdown",
   "id": "1c8712cc",
   "metadata": {},
   "source": [
    "## Preprocessing: "
   ]
  },
  {
   "cell_type": "markdown",
   "id": "171beb2e",
   "metadata": {},
   "source": [
    "### * Chi Square Test: "
   ]
  },
  {
   "cell_type": "markdown",
   "id": "238354db",
   "metadata": {},
   "source": [
    " Chi-squared test is used here to determine the dependencies of the features inorder to build the model."
   ]
  },
  {
   "cell_type": "code",
   "execution_count": 64,
   "id": "9c0a2524",
   "metadata": {},
   "outputs": [],
   "source": [
    "independent_features = []\n",
    "p_values = []"
   ]
  },
  {
   "cell_type": "code",
   "execution_count": 65,
   "id": "7e08ca31",
   "metadata": {},
   "outputs": [],
   "source": [
    "def independency_test(df1, df2):\n",
    "    contingency_table = pd.crosstab(df1, df2)\n",
    "    observed_values = contingency_table.values\n",
    "    x2, x2_p_value, deg_of_frdm, exp_val = stats.chi2_contingency(observed=observed_values)\n",
    "    return x2_p_value"
   ]
  },
  {
   "cell_type": "code",
   "execution_count": 66,
   "id": "be7bfc9e",
   "metadata": {},
   "outputs": [],
   "source": [
    "for col in df.columns[1:]:\n",
    "    p_val = independency_test(df['class'], df[col])\n",
    "    p_values.append(p_val)\n",
    "    if p_val > 0.05:\n",
    "        independent_features.append(col)"
   ]
  },
  {
   "cell_type": "code",
   "execution_count": 67,
   "id": "327f2ada",
   "metadata": {},
   "outputs": [
    {
     "name": "stdout",
     "output_type": "stream",
     "text": [
      "The column excluding target are: \n",
      " Index(['cap-shape', 'cap-surface', 'cap-color', 'bruises', 'odor',\n",
      "       'gill-attachment', 'gill-spacing', 'gill-size', 'gill-color',\n",
      "       'stalk-shape', 'stalk-root', 'stalk-surface-above-ring',\n",
      "       'stalk-surface-below-ring', 'stalk-color-above-ring',\n",
      "       'stalk-color-below-ring', 'veil-type', 'veil-color', 'ring-number',\n",
      "       'ring-type', 'spore-print-color', 'population', 'habitat'],\n",
      "      dtype='object')\n"
     ]
    }
   ],
   "source": [
    "print(\"The column excluding target are: \\n\", df.columns[1:])"
   ]
  },
  {
   "cell_type": "code",
   "execution_count": 68,
   "id": "e39df2df",
   "metadata": {},
   "outputs": [
    {
     "name": "stdout",
     "output_type": "stream",
     "text": [
      "Corresponding p values are:\n",
      " [1.1964565685935438e-103, 5.518427038649143e-68, 6.055814598336576e-78, 0.0, 0.0, 5.501707411861009e-31, 5.0229776137324786e-216, 0.0, 0.0, 4.604746212155192e-20, 7.702047904943513e-290, 0.0, 0.0, 0.0, 0.0, 1.0, 3.32097274916963e-41, 4.23575764172306e-82, 0.0, 0.0, 0.0, 0.0]\n"
     ]
    }
   ],
   "source": [
    "print('Corresponding p values are:\\n', p_values)"
   ]
  },
  {
   "cell_type": "code",
   "execution_count": 69,
   "id": "35419455",
   "metadata": {},
   "outputs": [
    {
     "name": "stdout",
     "output_type": "stream",
     "text": [
      "Independent features are:  ['veil-type']\n"
     ]
    }
   ],
   "source": [
    "print('Independent features are: ', independent_features)"
   ]
  },
  {
   "cell_type": "markdown",
   "id": "028cbb9c",
   "metadata": {},
   "source": [
    "Since the feature 'veil-type' showed no dependency, we are removing the feature."
   ]
  },
  {
   "cell_type": "code",
   "execution_count": 70,
   "id": "a68288ed",
   "metadata": {},
   "outputs": [],
   "source": [
    "df.drop(columns=['veil-type'], axis= 1, inplace = True)"
   ]
  },
  {
   "cell_type": "code",
   "execution_count": 71,
   "id": "3c11d26e",
   "metadata": {},
   "outputs": [
    {
     "data": {
      "text/plain": [
       "(8124, 22)"
      ]
     },
     "execution_count": 71,
     "metadata": {},
     "output_type": "execute_result"
    }
   ],
   "source": [
    "df.shape"
   ]
  },
  {
   "cell_type": "code",
   "execution_count": 73,
   "id": "de2a7376",
   "metadata": {},
   "outputs": [],
   "source": [
    "X = df.drop(columns=['class'], axis = 1)\n",
    "y = df['class']"
   ]
  },
  {
   "cell_type": "markdown",
   "id": "8dfaf978",
   "metadata": {},
   "source": [
    "## Encoding:"
   ]
  },
  {
   "cell_type": "code",
   "execution_count": 75,
   "id": "44927750",
   "metadata": {},
   "outputs": [],
   "source": [
    "X = pd.get_dummies(X)"
   ]
  },
  {
   "cell_type": "code",
   "execution_count": 78,
   "id": "eb8b7f10",
   "metadata": {
    "scrolled": true
   },
   "outputs": [
    {
     "data": {
      "text/plain": [
       "array([1, 0, 0, ..., 0, 1, 0])"
      ]
     },
     "execution_count": 78,
     "metadata": {},
     "output_type": "execute_result"
    }
   ],
   "source": [
    "le = LabelEncoder()\n",
    "y = le.fit_transform(y)\n",
    "y"
   ]
  },
  {
   "cell_type": "code",
   "execution_count": 79,
   "id": "8562c048",
   "metadata": {},
   "outputs": [
    {
     "name": "stdout",
     "output_type": "stream",
     "text": [
      "We encoded poisonous as 1 and edible as 0!\n"
     ]
    }
   ],
   "source": [
    "print(\"We encoded poisonous as 1 and edible as 0!\")"
   ]
  },
  {
   "cell_type": "markdown",
   "id": "faae0a5c",
   "metadata": {},
   "source": [
    "## Finding out which classification model gives the best result:"
   ]
  },
  {
   "cell_type": "code",
   "execution_count": 82,
   "id": "ecb7fce0",
   "metadata": {
    "collapsed": true
   },
   "outputs": [],
   "source": [
    "X_train, X_test, y_train, y_test = train_test_split(X, y, test_size=0.2, random_state=42)"
   ]
  },
  {
   "cell_type": "markdown",
   "id": "6749f009",
   "metadata": {},
   "source": [
    "## Logistic Regression"
   ]
  },
  {
   "cell_type": "code",
   "execution_count": 84,
   "id": "8f736437",
   "metadata": {},
   "outputs": [],
   "source": [
    "lr = LogisticRegression()\n",
    "model_1 = lr.fit(X_train, y_train)\n",
    "lr_predict = model_1.predict(X_test)"
   ]
  },
  {
   "cell_type": "code",
   "execution_count": 85,
   "id": "d3db8b38",
   "metadata": {},
   "outputs": [
    {
     "data": {
      "text/plain": [
       "array([[843,   0],\n",
       "       [  0, 782]], dtype=int64)"
      ]
     },
     "execution_count": 85,
     "metadata": {},
     "output_type": "execute_result"
    }
   ],
   "source": [
    "confusion_matrix(y_test, lr_predict)"
   ]
  },
  {
   "cell_type": "code",
   "execution_count": 86,
   "id": "957dfbb4",
   "metadata": {},
   "outputs": [
    {
     "data": {
      "text/plain": [
       "1.0"
      ]
     },
     "execution_count": 86,
     "metadata": {},
     "output_type": "execute_result"
    }
   ],
   "source": [
    "accuracy_score(y_test, lr_predict)"
   ]
  },
  {
   "cell_type": "markdown",
   "id": "5e1f2438",
   "metadata": {},
   "source": [
    "### Insight:\n",
    "\n",
    "Performing Logistic Regression, the accuracy score is 100%. "
   ]
  },
  {
   "cell_type": "markdown",
   "id": "927abc77",
   "metadata": {},
   "source": [
    "## Decision Tree Classifier:"
   ]
  },
  {
   "cell_type": "code",
   "execution_count": 88,
   "id": "eb3ef554",
   "metadata": {},
   "outputs": [],
   "source": [
    "dt = DecisionTreeClassifier()\n",
    "model_2 = dt.fit(X_train, y_train)\n",
    "dt_predict = model_2.predict(X_test)"
   ]
  },
  {
   "cell_type": "code",
   "execution_count": 89,
   "id": "90ceeee1",
   "metadata": {},
   "outputs": [
    {
     "data": {
      "text/plain": [
       "array([[843,   0],\n",
       "       [  0, 782]], dtype=int64)"
      ]
     },
     "execution_count": 89,
     "metadata": {},
     "output_type": "execute_result"
    }
   ],
   "source": [
    "confusion_matrix(y_test, dt_predict)"
   ]
  },
  {
   "cell_type": "code",
   "execution_count": 90,
   "id": "e275865f",
   "metadata": {},
   "outputs": [
    {
     "data": {
      "text/plain": [
       "1.0"
      ]
     },
     "execution_count": 90,
     "metadata": {},
     "output_type": "execute_result"
    }
   ],
   "source": [
    "accuracy_score(y_test, dt_predict)"
   ]
  },
  {
   "cell_type": "markdown",
   "id": "1174b85c",
   "metadata": {},
   "source": [
    "### Insight:\n",
    "\n",
    "Performing Decision Tree Classifier, the accuracy score is 100%. "
   ]
  },
  {
   "cell_type": "markdown",
   "id": "6acef13e",
   "metadata": {},
   "source": [
    "## Naive Bayes Classifiers:"
   ]
  },
  {
   "cell_type": "markdown",
   "id": "c7b16194",
   "metadata": {},
   "source": [
    "## 1. Gaussian Naive Bayes"
   ]
  },
  {
   "cell_type": "code",
   "execution_count": 92,
   "id": "944b813b",
   "metadata": {},
   "outputs": [],
   "source": [
    "gnb = GaussianNB()\n",
    "model_3 = gnb.fit(X_train, y_train)\n",
    "gnb_predict = model_3.predict(X_test)"
   ]
  },
  {
   "cell_type": "code",
   "execution_count": 93,
   "id": "e61425da",
   "metadata": {},
   "outputs": [
    {
     "data": {
      "text/plain": [
       "array([[778,  65],\n",
       "       [  0, 782]], dtype=int64)"
      ]
     },
     "execution_count": 93,
     "metadata": {},
     "output_type": "execute_result"
    }
   ],
   "source": [
    "confusion_matrix(y_test, gnb_predict)"
   ]
  },
  {
   "cell_type": "code",
   "execution_count": 94,
   "id": "d072b3ee",
   "metadata": {},
   "outputs": [
    {
     "data": {
      "text/plain": [
       "0.96"
      ]
     },
     "execution_count": 94,
     "metadata": {},
     "output_type": "execute_result"
    }
   ],
   "source": [
    "accuracy_score(y_test, gnb_predict)"
   ]
  },
  {
   "cell_type": "markdown",
   "id": "929ac761",
   "metadata": {},
   "source": [
    "### Insight:\n",
    "\n",
    "Performing Gaussian Naive Bayes, the accuracy score is 96%. "
   ]
  },
  {
   "cell_type": "markdown",
   "id": "0cb755a2",
   "metadata": {},
   "source": [
    "## 2. Bernoulli Naive Bayes"
   ]
  },
  {
   "cell_type": "code",
   "execution_count": 95,
   "id": "3acdf7f3",
   "metadata": {},
   "outputs": [],
   "source": [
    "bnb = BernoulliNB()\n",
    "model_4 = bnb.fit(X_train, y_train)\n",
    "bnb_predict = model_4.predict(X_test)"
   ]
  },
  {
   "cell_type": "code",
   "execution_count": 96,
   "id": "59ee2c8a",
   "metadata": {},
   "outputs": [
    {
     "data": {
      "text/plain": [
       "array([[827,  16],\n",
       "       [ 88, 694]], dtype=int64)"
      ]
     },
     "execution_count": 96,
     "metadata": {},
     "output_type": "execute_result"
    }
   ],
   "source": [
    "confusion_matrix(y_test, bnb_predict)"
   ]
  },
  {
   "cell_type": "code",
   "execution_count": 97,
   "id": "f6da23bc",
   "metadata": {
    "scrolled": true
   },
   "outputs": [
    {
     "data": {
      "text/plain": [
       "0.936"
      ]
     },
     "execution_count": 97,
     "metadata": {},
     "output_type": "execute_result"
    }
   ],
   "source": [
    "accuracy_score(y_test, bnb_predict)"
   ]
  },
  {
   "cell_type": "markdown",
   "id": "73476049",
   "metadata": {},
   "source": [
    "### Insight:\n",
    "\n",
    "Performing Bernoulli Naive Bayes, the accuracy score is 93.6%. "
   ]
  },
  {
   "cell_type": "markdown",
   "id": "5d5706a6",
   "metadata": {},
   "source": [
    "## 3. Multinomial Naive Bayes"
   ]
  },
  {
   "cell_type": "code",
   "execution_count": 98,
   "id": "31455f32",
   "metadata": {},
   "outputs": [],
   "source": [
    "mnb = MultinomialNB()\n",
    "model_5 = mnb.fit(X_train, y_train)\n",
    "mnb_predict = model_5.predict(X_test)"
   ]
  },
  {
   "cell_type": "code",
   "execution_count": 99,
   "id": "a1754d15",
   "metadata": {},
   "outputs": [
    {
     "data": {
      "text/plain": [
       "array([[837,   6],\n",
       "       [ 74, 708]], dtype=int64)"
      ]
     },
     "execution_count": 99,
     "metadata": {},
     "output_type": "execute_result"
    }
   ],
   "source": [
    "confusion_matrix(y_test, mnb_predict)"
   ]
  },
  {
   "cell_type": "code",
   "execution_count": 100,
   "id": "c0337ffc",
   "metadata": {},
   "outputs": [
    {
     "data": {
      "text/plain": [
       "0.9507692307692308"
      ]
     },
     "execution_count": 100,
     "metadata": {},
     "output_type": "execute_result"
    }
   ],
   "source": [
    "accuracy_score(y_test, mnb_predict)"
   ]
  },
  {
   "cell_type": "markdown",
   "id": "673f76ac",
   "metadata": {},
   "source": [
    "### Insight:\n",
    "\n",
    "Performing Multinomial Naive Bayes, the accuracy score is 95.07%."
   ]
  },
  {
   "cell_type": "markdown",
   "id": "51dbe2c0",
   "metadata": {},
   "source": [
    "## Conclusion:"
   ]
  },
  {
   "cell_type": "markdown",
   "id": "8523bdf3",
   "metadata": {},
   "source": [
    "* Couple of the classification methods hit 100% accuracy with this dataset.\n",
    "* Gaussian Naive Bayes has given the best prediction among the naive bayes classifiers."
   ]
  },
  {
   "cell_type": "code",
   "execution_count": null,
   "id": "3e73579c",
   "metadata": {},
   "outputs": [],
   "source": []
  }
 ],
 "metadata": {
  "kernelspec": {
   "display_name": "Python 3",
   "language": "python",
   "name": "python3"
  },
  "language_info": {
   "codemirror_mode": {
    "name": "ipython",
    "version": 3
   },
   "file_extension": ".py",
   "mimetype": "text/x-python",
   "name": "python",
   "nbconvert_exporter": "python",
   "pygments_lexer": "ipython3",
   "version": "3.8.8"
  }
 },
 "nbformat": 4,
 "nbformat_minor": 5
}
